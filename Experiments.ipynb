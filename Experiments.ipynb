{
 "cells": [
  {
   "cell_type": "code",
   "execution_count": 37,
   "metadata": {},
   "outputs": [],
   "source": [
    "import pandas as pd\n",
    "import numpy as np\n",
    "from sklearn.feature_extraction.text import CountVectorizer\n",
    "from nltk.stem import PorterStemmer\n",
    "from nltk.tokenize import sent_tokenize, word_tokenize\n",
    "from sklearn.pipeline import FeatureUnion\n",
    "from nltk.corpus import stopwords \n",
    "import os\n",
    "import string\n",
    "\n",
    "def removeStopWords(wordList):\n",
    "    return [word for word in wordList if word not in stopwords.words('english')]\n",
    "\n",
    "# DO NOT USE\n",
    "def calcCosSimOld(aMat,bVec):\n",
    "    # Calculate cosine simularity\n",
    "    a = np.sum(aMat,axis=0)/aMat.shape[0]\n",
    "    b = bVec.copy()\n",
    "    return np.dot(a,b)/(np.linalg.norm(a)*np.linalg.norm(b))\n",
    "\n",
    "def calcCosSim(a,b):\n",
    "    # Calculate cosine simularity\n",
    "    return np.dot(a,b)/(np.linalg.norm(a)*np.linalg.norm(b))\n",
    "\n",
    "def removeStem(sentence):\n",
    "    ps = PorterStemmer()\n",
    "    words = word_tokenize(sentence)\n",
    "    tmpStr = ''\n",
    "    for w in words:\n",
    "        tmpStr += ps.stem(w) + ' '\n",
    "    return tmpStr\n"
   ]
  },
  {
   "cell_type": "code",
   "execution_count": 26,
   "metadata": {},
   "outputs": [
    {
     "name": "stdout",
     "output_type": "stream",
     "text": [
      "[\"I ca n't believ these peopl termin my account  \", 'My account got termin for no reason when I wa work with them . A complet wast of my time !  ', \"I ca n't believ thi compani stole my patent and violat my intellectu properti right ! ! !  \", 'My access to the site got termin without an explain . what a wast of my time ! ! !  ']\n"
     ]
    }
   ],
   "source": [
    "rootPath = './company0/'\n",
    "complaintSubPath = 'complaint/'\n",
    "\n",
    "contractPath = rootPath + '/termService/' + '0.txt'\n",
    "#contractPath = rootPath + '/termService/' + 'related.txt'\n",
    "#contractPath = rootPath + '/termService/' + 'unrelated.txt'\n",
    "\n",
    "contractTxt = open(contractPath, encoding=\"utf8\", errors='ignore').read()\n",
    "contractVec = removeStopWords([removeStem(contractTxt)])\n",
    "\n",
    "vec = CountVectorizer()\n",
    "contractFreq = vec.fit_transform(contractVec)\n",
    "\n",
    "\n",
    "compList = []\n",
    "\n",
    "# Used for removing stem from words\n",
    "for cFilePath in os.listdir(rootPath + complaintSubPath):\n",
    "    cFilePath = rootPath + complaintSubPath + cFilePath\n",
    "    cFileTxt = open(cFilePath,'r').read()\n",
    "\n",
    "    cFileTxt = removeStem(cFileTxt)\n",
    "    \n",
    "    compList.append(cFileTxt + ' ')\n",
    "    \n",
    "print(compList)\n",
    "compList = [''.join(str(v) for v in compList)]  # We are combining all complaints into one\n",
    "complantCnt = CountVectorizer()\n",
    "a = complantCnt.fit_transform(compList)\n",
    "#print(contractVec)"
   ]
  },
  {
   "cell_type": "code",
   "execution_count": 47,
   "metadata": {},
   "outputs": [
    {
     "name": "stdout",
     "output_type": "stream",
     "text": [
      "Site should be addressed to the Site Administrator at corporate@retrofitness.com.++GOVERNING LAW, VENUE AND DISPUTE RESOLUTION+This Agreement is governed by, and construed in accordance with U.S. Federal laws and the laws of the State of New Jersey, without giving effect to any principles of conflicts of law. For any claims not subject to mandatory arbitration pursuant to this agreement, you agree to submit to the exclusive jurisdiction of the courts of the State of New Jersey or, if appropriate\n",
      "0.22133052727827696\n"
     ]
    }
   ],
   "source": [
    "resPara = []\n",
    "resScore = []\n",
    "\n",
    "splitNum = 500\n",
    "#for paragraph in contractTxt.split('\\n'):\n",
    "for paragraph in [contractTxt[i:i+splitNum] for i in range(0, len(contractTxt), splitNum)]:\n",
    "    paragraph = paragraph.translate(string.punctuation)\n",
    "\n",
    "\n",
    "    try:\n",
    "        vec = CountVectorizer()\n",
    "        contractFreq = vec.fit_transform([paragraph])\n",
    "    except:\n",
    "        continue\n",
    "    complaintDf = pd.DataFrame(a.toarray(),columns=complantCnt.get_feature_names())\n",
    "    contractDf = pd.DataFrame(contractFreq.toarray(),columns=vec.get_feature_names())\n",
    "\n",
    "    combinedDf = pd.concat([complaintDf, contractDf],sort=False).fillna(value=0.0)\n",
    "    complainVec = combinedDf.iloc[0].values\n",
    "    contractVec = combinedDf.iloc[1].values\n",
    "\n",
    "    simRes = calcCosSim(complainVec,contractVec)\n",
    "    #print(simRes)\n",
    "    resPara.append(paragraph)\n",
    "    resScore.append(simRes)\n",
    "\n",
    "\n",
    "\n",
    "print(resPara[np.argmax(resScore)])\n",
    "print(np.max(resScore))"
   ]
  },
  {
   "cell_type": "code",
   "execution_count": null,
   "metadata": {},
   "outputs": [],
   "source": []
  }
 ],
 "metadata": {
  "kernelspec": {
   "display_name": "Python 3",
   "language": "python",
   "name": "python3"
  },
  "language_info": {
   "codemirror_mode": {
    "name": "ipython",
    "version": 3
   },
   "file_extension": ".py",
   "mimetype": "text/x-python",
   "name": "python",
   "nbconvert_exporter": "python",
   "pygments_lexer": "ipython3",
   "version": "3.6.7"
  }
 },
 "nbformat": 4,
 "nbformat_minor": 2
}
